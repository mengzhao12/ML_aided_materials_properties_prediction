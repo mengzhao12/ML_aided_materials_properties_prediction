{
 "cells": [
  {
   "cell_type": "code",
   "execution_count": 2,
   "metadata": {
    "scrolled": false
   },
   "outputs": [
    {
     "name": "stderr",
     "output_type": "stream",
     "text": [
      "/Users/mengzhao/miniconda2/envs/1_springboard_ds_track/lib/python3.6/site-packages/sklearn/model_selection/_search.py:271: UserWarning: The total space of parameters 10 is smaller than n_iter=50. Running 10 iterations. For exhaustive searches, use GridSearchCV.\n",
      "  % (grid_size, self.n_iter, grid_size), UserWarning)\n",
      "[Parallel(n_jobs=-1)]: Using backend LokyBackend with 4 concurrent workers.\n"
     ]
    },
    {
     "name": "stdout",
     "output_type": "stream",
     "text": [
      "Fitting 5 folds for each of 10 candidates, totalling 50 fits\n"
     ]
    },
    {
     "name": "stderr",
     "output_type": "stream",
     "text": [
      "[Parallel(n_jobs=-1)]: Done  42 tasks      | elapsed:   10.2s\n",
      "[Parallel(n_jobs=-1)]: Done  50 out of  50 | elapsed:   11.3s finished\n"
     ]
    },
    {
     "name": "stdout",
     "output_type": "stream",
     "text": [
      "the score for test data: 0.3624603805868245\n",
      "model file is saved as finalized_linear_model_2_bandgap.sav\n",
      "done\n",
      "MAE(mean absolute error) is 0.5589 eV\n",
      "RMSLE is 0.311 eV\n"
     ]
    },
    {
     "data": {
      "image/png": "[encoded data removed]",
      "text/plain": [
       "<Figure size 432x288 with 1 Axes>"
      ]
     },
     "metadata": {
      "needs_background": "light"
     },
     "output_type": "display_data"
    }
   ],
   "source": [
    "import numpy as np\n",
    "import matplotlib.pyplot as plt\n",
    "import pandas as pd\n",
    "\n",
    "from sklearn.linear_model import LinearRegression\n",
    "\n",
    "from sklearn.model_selection import train_test_split, KFold, cross_val_score, RandomizedSearchCV\n",
    "from sklearn.preprocessing import StandardScaler\n",
    "from sklearn.decomposition import PCA\n",
    "from sklearn.pipeline import make_pipeline\n",
    "from sklearn.externals import joblib\n",
    "from sklearn.metrics import mean_absolute_error\n",
    "\n",
    "# Load the data\n",
    "data = pd.read_csv(\"data_complete_w_features.csv\",index_col = 0)\n",
    "data = data.dropna()\n",
    "\n",
    "features = data.drop(['formula','structure_obj', \n",
    "                      'composition',\n",
    "                      'structure',\n",
    "                      'composition_oxid',\n",
    "                      'formation_energy_ev_natom',\n",
    "                      'bandgap_energy_ev'], axis = 1)\n",
    "\n",
    "features = features.astype(float)\n",
    "\n",
    "target1 = data['formation_energy_ev_natom']\n",
    "target2 = data['bandgap_energy_ev']\n",
    "\n",
    "random_state = 42\n",
    "\n",
    "# split data for target1 formation energy\n",
    "X_train1, X_test1, y_train1, y_test1 = train_test_split(features, \n",
    "                                                        target1, \n",
    "                                                        test_size=0.3, \n",
    "                                                        random_state=random_state)\n",
    "\n",
    "# split data for target2 bandgap\n",
    "X_train2, X_test2, y_train2, y_test2 = train_test_split(features, \n",
    "                                                        target2, \n",
    "                                                        test_size=0.3, \n",
    "                                                        random_state=random_state)\n",
    "\n",
    "# Create the random grid\n",
    "\n",
    "k_fold = 5\n",
    "n_iter_search = 50\n",
    "\n",
    "pca = PCA()\n",
    "scaler= StandardScaler()\n",
    "linear_regr = LinearRegression()\n",
    "\n",
    "n_components = [int(x) for x in np.linspace(10, 140, num = 10)]\n",
    "\n",
    "pipe_linear = make_pipeline(scaler,pca,linear_regr)\n",
    "\n",
    "randomsearch_linear =  RandomizedSearchCV(pipe_linear,\n",
    "                                          dict(pca__n_components=n_components), \n",
    "                                          n_iter = n_iter_search,\n",
    "                                          cv = k_fold,\n",
    "                                          random_state = 42,\n",
    "                                          verbose = 1,\n",
    "                                          n_jobs= -1)\n",
    "\n",
    "\n",
    "# List of pipelines for ease of iteration\n",
    "pipelines = [randomsearch_linear] \n",
    "\n",
    "# Dictionary of pipelines and classifier types for ease of reference\n",
    "pipe_dict = {0: 'pca with linear regression'} \n",
    "\n",
    "# Fit the pipelines\n",
    "for pipe in pipelines:\n",
    "    pipe.fit(X_train2, y_train2) \n",
    "\n",
    "    y_test_pred = pipe.predict(X_test2)\n",
    "    score = pipe.score(X_test2, y_test2) \n",
    "    print(\"the score for test data: {}\".format(score))\n",
    "\n",
    "filename = 'finalized_linear_model_2_bandgap.sav'\n",
    "joblib.dump(randomsearch_linear.best_estimator_, open(filename, 'wb'))\n",
    "print('model file is saved as {}'.format(filename))\n",
    "print (\"done\")\n",
    "\n",
    "# calculate mean absolute error\n",
    "y_pred_test2 = pipelines[0].predict(X_test2)\n",
    "\n",
    "mean_absolute_error = mean_absolute_error(y_test2, y_pred_test2)\n",
    "print(\"MAE(mean absolute error) is {} eV\".format(round(mean_absolute_error,4)))\n",
    "\n",
    "# number of testset\n",
    "observations = len(y_test2)\n",
    "\n",
    "pred_list = []\n",
    "actual_list = []\n",
    "\n",
    "pred_actual_diffs = []\n",
    "most_negative1 = min(y_pred_test2)\n",
    "most_negative2 = min(y_test2)\n",
    "\n",
    "for pred, actual in zip(y_pred_test2,y_test2):\n",
    "    pred_actual_diff = np.square(np.log(pred- most_negative2 + 1) - np.log(actual - most_negative2 + 1))\n",
    "    pred_actual_diffs.append(pred_actual_diff)\n",
    "    \n",
    "evaluation = (1/observations)*np.sum(pred_actual_diffs)\n",
    "rmsle = np.sqrt(evaluation)\n",
    "\n",
    "print(\"RMSLE is {} eV\".format(round(rmsle,4)))\n",
    "\n",
    "# plot the figure\n",
    "fontsize = 12\n",
    "plt.scatter(y_test1, y_pred_test1, marker='o', color = 'blue', alpha = 0.3)\n",
    "straightline_x = [min(y_test1), max(y_test1)]\n",
    "straightline_y = [min(y_test1), max(y_test1)]\n",
    "plt.plot(straightline_x, straightline_y, 'k--', linewidth=2)\n",
    "plt.xlabel(\"Actual bandgap eV\", fontsize = fontsize)\n",
    "plt.ylabel(\"Predicted bandgap eV\", fontsize = fontsize)\n",
    "label1 = \"MAE: {} eV\".format(round(mean_absolute_error,2))\n",
    "label2 = \"ML algorithum:\\n{}\".format('linear')\n",
    "# plt.text(1.5, -4, label1, fontsize=fontsize)\n",
    "# plt.text(1.5, -3, label2, fontsize=fontsize)\n",
    "plt.savefig(\"./actual vs. predicted bandgap_random_searchCV_linear.jpeg\",dpi = 400)\n",
    "\n",
    "\n",
    "# # Load ML model from file\n",
    "# xgb_model = joblib.load(filename)\n",
    "# print(\"training model loaded\")\n",
    "# print(xgb_model)"
   ]
  },
  {
   "cell_type": "code",
   "execution_count": null,
   "metadata": {},
   "outputs": [],
   "source": []
  }
 ],
 "metadata": {
  "kernelspec": {
   "display_name": "Py36_kernel",
   "language": "python",
   "name": "envname"
  },
  "language_info": {
   "codemirror_mode": {
    "name": "ipython",
    "version": 3
   },
   "file_extension": ".py",
   "mimetype": "text/x-python",
   "name": "python",
   "nbconvert_exporter": "python",
   "pygments_lexer": "ipython3",
   "version": "3.6.7"
  }
 },
 "nbformat": 4,
 "nbformat_minor": 2
}
